{
 "cells": [
  {
   "cell_type": "code",
   "execution_count": 2,
   "metadata": {},
   "outputs": [],
   "source": [
    "from __future__ import print_function\n",
    "from builtins import input\n",
    "\n",
    "import os.path\n",
    "import tempfile\n",
    "import pyfftw   # See https://github.com/pyFFTW/pyFFTW/issues/40\n",
    "import numpy as np\n",
    "import scipy.io as sio\n",
    "\n",
    "from sporco import util\n",
    "from sporco import signal\n",
    "from sporco import plot\n",
    "plot.config_notebook_plotting()\n",
    "from sporco.metric import psnr\n",
    "from sporco.cupy import (cupy_enabled, np2cp, cp2np, select_device_by_load,\n",
    "                         gpu_info)\n",
    "from sporco.cupy.admm import pdcsc\n",
    "from sporco.dictlrn import bpdndl"
   ]
  },
  {
   "cell_type": "code",
   "execution_count": 3,
   "metadata": {},
   "outputs": [],
   "source": [
    "def pad(x, n=8):\n",
    "\n",
    "    if x.ndim == 2:\n",
    "        return np.pad(x, n, mode='symmetric')\n",
    "    else:\n",
    "        return np.pad(x, ((n, n), (n, n), (0, 0)), mode='symmetric')\n",
    "\n",
    "\n",
    "def crop(x, n=8):\n",
    "\n",
    "    return x[n:-n, n:-n]"
   ]
  },
  {
   "cell_type": "code",
   "execution_count": 4,
   "metadata": {},
   "outputs": [],
   "source": [
    "img = util.ExampleImages().image('a.jpg', zoom=0.5, scaled=True,\n",
    "                                 idxexp=np.s_[:, :])\n",
    "np.random.seed(12345)\n",
    "imgn = signal.spnoise(img, 0.44)"
   ]
  },
  {
   "cell_type": "code",
   "execution_count": 5,
   "metadata": {},
   "outputs": [
    {
     "name": "stdout",
     "output_type": "stream",
     "text": [
      "Itn   Fnc       DFid      ℓ1        Cnstr     r_X       s_X       ρ_X       r_D       s_D       ρ_D     \n",
      "--------------------------------------------------------------------------------------------------------\n",
      "   0  2.29e+03  1.92e+03  1.87e+04  8.67e-01  5.21e-01  6.82e-01  3.00e-01  1.98e-01  5.37e-01  2.98e+02\n",
      "   1  1.99e+03  1.16e+03  4.13e+04  1.11e+00  3.25e-01  9.79e-01  3.00e-01  2.47e-01  8.41e-01  2.98e+02\n",
      "   2  9.15e+02  4.54e+02  2.31e+04  9.05e-01  3.01e-01  7.14e-01  3.00e-01  2.08e-01  4.98e-01  2.98e+02\n",
      "   3  7.09e+02  2.08e+02  2.51e+04  6.09e-01  2.81e-01  1.69e-01  3.00e-01  1.26e-01  2.90e-01  2.98e+02\n",
      "   4  7.52e+02  1.28e+02  3.12e+04  5.25e-01  1.75e-01  2.84e-01  3.00e-01  1.18e-01  2.29e-01  2.98e+02\n",
      "   5  6.15e+02  1.19e+02  2.48e+04  4.07e-01  1.36e-01  2.66e-01  3.00e-01  8.67e-02  8.89e-02  2.98e+02\n",
      "   6  5.74e+02  5.31e+01  2.60e+04  2.77e-01  1.10e-01  9.36e-02  3.00e-01  6.20e-02  6.36e-02  2.98e+02\n",
      "   7  5.81e+02  1.45e+01  2.83e+04  2.38e-01  7.50e-02  1.24e-01  3.00e-01  5.26e-02  5.46e-02  2.98e+02\n",
      "   8  5.58e+02  2.86e+01  2.64e+04  1.74e-01  6.16e-02  9.46e-02  3.00e-01  3.89e-02  3.77e-02  2.98e+02\n",
      "   9  5.60e+02  3.82e+01  2.61e+04  1.37e-01  5.40e-02  5.87e-02  3.00e-01  3.02e-02  3.03e-02  2.98e+02\n",
      "  10  5.56e+02  7.89e+00  2.74e+04  1.13e-01  3.97e-02  7.13e-02  3.00e-01  2.54e-02  4.38e-02  2.98e+02\n",
      "  11  5.52e+02  1.44e+01  2.69e+04  8.23e-02  3.39e-02  4.76e-02  3.00e-01  1.84e-02  2.87e-02  2.98e+02\n",
      "  12  5.53e+02  2.51e+01  2.64e+04  6.59e-02  2.92e-02  4.49e-02  3.00e-01  1.48e-02  2.41e-02  2.98e+02\n",
      "  13  5.50e+02  1.26e+01  2.69e+04  4.60e-02  2.34e-02  4.11e-02  3.00e-01  1.04e-02  2.81e-02  2.98e+02\n",
      "  14  5.50e+02  1.14e+01  2.69e+04  3.49e-02  2.00e-02  3.30e-02  3.00e-01  8.04e-03  2.63e-02  2.98e+02\n",
      "  15  5.50e+02  1.71e+01  2.66e+04  3.02e-02  1.74e-02  3.30e-02  3.00e-01  6.95e-03  2.34e-02  2.98e+02\n",
      "  16  5.49e+02  1.48e+01  2.67e+04  2.25e-02  1.56e-02  2.86e-02  3.00e-01  5.31e-03  2.30e-02  2.98e+02\n",
      "  17  5.49e+02  1.20e+01  2.68e+04  1.60e-02  1.36e-02  2.69e-02  3.00e-01  3.95e-03  2.25e-02  2.98e+02\n",
      "  18  5.48e+02  1.36e+01  2.67e+04  1.11e-02  1.22e-02  2.57e-02  3.00e-01  2.93e-03  2.07e-02  2.98e+02\n",
      "  19  5.48e+02  1.42e+01  2.67e+04  1.09e-02  1.14e-02  2.35e-02  3.00e-01  2.88e-03  2.00e-02  2.98e+02\n",
      "  20  5.48e+02  1.29e+01  2.68e+04  8.24e-03  1.04e-02  2.26e-02  3.00e-01  2.37e-03  1.98e-02  2.98e+02\n",
      "  21  5.48e+02  1.28e+01  2.68e+04  5.69e-03  9.67e-03  2.14e-02  3.00e-01  1.91e-03  1.90e-02  2.98e+02\n",
      "  22  5.48e+02  1.33e+01  2.67e+04  4.04e-03  9.23e-03  2.03e-02  3.00e-01  1.66e-03  1.85e-02  2.98e+02\n",
      "  23  5.48e+02  1.30e+01  2.67e+04  4.98e-03  8.73e-03  1.97e-02  3.00e-01  1.76e-03  1.81e-02  2.98e+02\n",
      "  24  5.47e+02  1.28e+01  2.67e+04  3.00e-03  8.32e-03  1.88e-02  3.00e-01  1.45e-03  1.72e-02  2.98e+02\n",
      "  25  5.47e+02  1.29e+01  2.67e+04  2.68e-03  7.97e-03  1.83e-02  3.00e-01  1.35e-03  1.62e-02  2.98e+02\n",
      "  26  5.47e+02  1.28e+01  2.67e+04  2.53e-03  7.64e-03  1.76e-02  3.00e-01  1.27e-03  1.52e-02  2.98e+02\n",
      "  27  5.47e+02  1.26e+01  2.67e+04  2.32e-03  7.31e-03  1.71e-02  3.00e-01  1.19e-03  1.43e-02  2.98e+02\n",
      "  28  5.47e+02  1.27e+01  2.67e+04  1.77e-03  7.01e-03  1.65e-02  3.00e-01  1.10e-03  1.36e-02  2.98e+02\n",
      "  29  5.47e+02  1.26e+01  2.67e+04  1.94e-03  6.75e-03  1.60e-02  3.00e-01  1.08e-03  1.32e-02  2.98e+02\n",
      "  30  5.47e+02  1.25e+01  2.67e+04  2.71e-03  6.47e-03  1.55e-02  3.00e-01  1.74e-03  1.11e-02  1.49e+02\n",
      "  31  5.47e+02  1.29e+01  2.67e+04  2.32e-03  6.42e-03  1.51e-02  3.00e-01  1.48e-03  9.38e-03  1.49e+02\n",
      "  32  5.47e+02  1.28e+01  2.67e+04  3.01e-03  6.12e-03  1.46e-02  3.00e-01  1.47e-03  8.78e-03  1.49e+02\n",
      "  33  5.47e+02  1.25e+01  2.67e+04  3.03e-03  5.96e-03  1.41e-02  3.00e-01  1.42e-03  8.37e-03  1.49e+02\n",
      "  34  5.47e+02  1.25e+01  2.67e+04  2.13e-03  5.67e-03  1.37e-02  3.00e-01  1.26e-03  7.84e-03  1.49e+02\n",
      "  35  5.46e+02  1.26e+01  2.67e+04  2.13e-03  5.56e-03  1.32e-02  3.00e-01  1.19e-03  7.31e-03  1.49e+02\n",
      "  36  5.46e+02  1.25e+01  2.67e+04  2.66e-03  5.31e-03  1.28e-02  3.00e-01  1.19e-03  6.92e-03  1.49e+02\n",
      "  37  5.46e+02  1.24e+01  2.67e+04  2.42e-03  5.14e-03  1.24e-02  3.00e-01  1.14e-03  6.70e-03  1.49e+02\n",
      "  38  5.46e+02  1.25e+01  2.67e+04  2.02e-03  4.94e-03  1.20e-02  3.00e-01  1.08e-03  6.55e-03  1.49e+02\n",
      "  39  5.46e+02  1.25e+01  2.67e+04  2.13e-03  4.80e-03  1.17e-02  3.00e-01  1.07e-03  6.42e-03  1.49e+02\n",
      "  40  5.46e+02  1.24e+01  2.67e+04  2.30e-03  4.62e-03  1.13e-02  3.00e-01  1.08e-03  6.30e-03  1.49e+02\n",
      "  41  5.46e+02  1.24e+01  2.67e+04  2.04e-03  4.48e-03  1.10e-02  3.00e-01  1.03e-03  6.20e-03  1.49e+02\n",
      "  42  5.46e+02  1.24e+01  2.67e+04  1.83e-03  4.33e-03  1.07e-02  3.00e-01  9.92e-04  6.04e-03  1.49e+02\n",
      "  43  5.46e+02  1.24e+01  2.67e+04  1.92e-03  4.21e-03  1.05e-02  3.00e-01  9.75e-04  5.84e-03  1.49e+02\n",
      "  44  5.46e+02  1.23e+01  2.67e+04  2.04e-03  4.07e-03  1.02e-02  3.00e-01  9.68e-04  5.70e-03  1.49e+02\n",
      "  45  5.46e+02  1.23e+01  2.67e+04  1.92e-03  3.96e-03  9.95e-03  3.00e-01  9.34e-04  5.54e-03  1.49e+02\n",
      "  46  5.46e+02  1.23e+01  2.67e+04  1.80e-03  3.84e-03  9.71e-03  3.00e-01  9.02e-04  5.39e-03  1.49e+02\n",
      "  47  5.46e+02  1.23e+01  2.67e+04  1.81e-03  3.74e-03  9.47e-03  3.00e-01  8.82e-04  5.24e-03  1.49e+02\n",
      "  48  5.46e+02  1.23e+01  2.67e+04  1.80e-03  3.63e-03  9.25e-03  3.00e-01  8.66e-04  5.12e-03  1.49e+02\n",
      "  49  5.46e+02  1.22e+01  2.67e+04  1.70e-03  3.53e-03  9.03e-03  3.00e-01  8.44e-04  5.03e-03  1.49e+02\n",
      "  50  5.46e+02  1.22e+01  2.67e+04  1.65e-03  3.44e-03  8.82e-03  3.00e-01  8.31e-04  4.97e-03  1.49e+02\n",
      "  51  5.46e+02  1.22e+01  2.67e+04  1.66e-03  3.35e-03  8.61e-03  3.00e-01  8.24e-04  4.92e-03  1.49e+02\n",
      "  52  5.46e+02  1.22e+01  2.67e+04  1.67e-03  3.26e-03  8.40e-03  3.00e-01  8.19e-04  4.88e-03  1.49e+02\n",
      "  53  5.46e+02  1.22e+01  2.67e+04  1.57e-03  3.18e-03  8.20e-03  3.00e-01  8.02e-04  4.82e-03  1.49e+02\n",
      "  54  5.46e+02  1.22e+01  2.67e+04  1.50e-03  3.10e-03  8.01e-03  3.00e-01  7.87e-04  4.76e-03  1.49e+02\n",
      "  55  5.46e+02  1.22e+01  2.67e+04  1.47e-03  3.02e-03  7.83e-03  3.00e-01  7.69e-04  4.65e-03  1.49e+02\n",
      "  56  5.46e+02  1.22e+01  2.67e+04  1.46e-03  2.94e-03  7.66e-03  3.00e-01  7.56e-04  4.56e-03  1.49e+02\n",
      "  57  5.46e+02  1.22e+01  2.67e+04  1.43e-03  2.87e-03  7.50e-03  3.00e-01  7.42e-04  4.49e-03  1.49e+02\n",
      "  58  5.46e+02  1.22e+01  2.67e+04  1.39e-03  2.80e-03  7.34e-03  3.00e-01  7.33e-04  4.45e-03  1.49e+02\n",
      "  59  5.46e+02  1.22e+01  2.67e+04  1.38e-03  2.74e-03  7.20e-03  3.00e-01  7.28e-04  4.42e-03  1.49e+02\n",
      "  60  5.46e+02  1.21e+01  2.67e+04  1.33e-03  2.68e-03  7.06e-03  3.00e-01  7.19e-04  4.38e-03  1.49e+02\n",
      "  61  5.46e+02  1.21e+01  2.67e+04  1.29e-03  2.62e-03  6.93e-03  3.00e-01  7.06e-04  4.32e-03  1.49e+02\n",
      "  62  5.46e+02  1.21e+01  2.67e+04  1.23e-03  2.57e-03  6.80e-03  3.00e-01  6.92e-04  4.26e-03  1.49e+02\n",
      "  63  5.46e+02  1.21e+01  2.67e+04  1.19e-03  2.51e-03  6.68e-03  3.00e-01  6.84e-04  4.22e-03  1.49e+02\n",
      "  64  5.45e+02  1.21e+01  2.67e+04  1.18e-03  2.46e-03  6.56e-03  3.00e-01  6.78e-04  4.19e-03  1.49e+02\n",
      "  65  5.45e+02  1.21e+01  2.67e+04  1.16e-03  2.41e-03  6.44e-03  3.00e-01  6.69e-04  4.14e-03  1.49e+02\n",
      "  66  5.45e+02  1.21e+01  2.67e+04  1.13e-03  2.36e-03  6.32e-03  3.00e-01  6.58e-04  4.08e-03  1.49e+02\n",
      "  67  5.45e+02  1.21e+01  2.67e+04  1.09e-03  2.32e-03  6.20e-03  3.00e-01  6.50e-04  4.05e-03  1.49e+02\n",
      "  68  5.45e+02  1.21e+01  2.67e+04  1.06e-03  2.28e-03  6.09e-03  3.00e-01  6.46e-04  4.04e-03  1.49e+02\n",
      "  69  5.45e+02  1.21e+01  2.67e+04  1.06e-03  2.23e-03  5.99e-03  3.00e-01  6.44e-04  4.03e-03  1.49e+02\n",
      "  70  5.45e+02  1.21e+01  2.67e+04  1.02e-03  2.19e-03  5.89e-03  3.00e-01  6.38e-04  4.01e-03  1.49e+02\n",
      "  71  5.45e+02  1.21e+01  2.67e+04  9.78e-04  2.15e-03  5.79e-03  3.00e-01  6.31e-04  3.98e-03  1.49e+02\n",
      "  72  5.45e+02  1.21e+01  2.67e+04  9.41e-04  2.12e-03  5.70e-03  3.00e-01  6.22e-04  3.94e-03  1.49e+02\n",
      "  73  5.45e+02  1.21e+01  2.67e+04  9.36e-04  2.08e-03  5.61e-03  3.00e-01  6.15e-04  3.90e-03  1.49e+02\n",
      "  74  5.45e+02  1.21e+01  2.67e+04  9.19e-04  2.04e-03  5.52e-03  3.00e-01  6.09e-04  3.86e-03  1.49e+02\n",
      "  75  5.45e+02  1.21e+01  2.67e+04  8.79e-04  2.01e-03  5.44e-03  3.00e-01  6.03e-04  3.84e-03  1.49e+02\n",
      "  76  5.45e+02  1.21e+01  2.67e+04  8.48e-04  1.98e-03  5.36e-03  3.00e-01  5.99e-04  3.83e-03  1.49e+02\n"
     ]
    },
    {
     "name": "stdout",
     "output_type": "stream",
     "text": [
      "  77  5.45e+02  1.21e+01  2.67e+04  8.44e-04  1.95e-03  5.29e-03  3.00e-01  5.95e-04  3.81e-03  1.49e+02\n",
      "  78  5.45e+02  1.20e+01  2.67e+04  8.43e-04  1.92e-03  5.21e-03  3.00e-01  5.91e-04  3.78e-03  1.49e+02\n",
      "  79  5.45e+02  1.20e+01  2.67e+04  8.09e-04  1.89e-03  5.14e-03  3.00e-01  5.85e-04  3.75e-03  1.49e+02\n",
      "  80  5.45e+02  1.20e+01  2.67e+04  7.75e-04  1.86e-03  5.07e-03  3.00e-01  5.80e-04  3.74e-03  1.49e+02\n",
      "  81  5.45e+02  1.20e+01  2.67e+04  7.50e-04  1.83e-03  5.00e-03  3.00e-01  5.76e-04  3.72e-03  1.49e+02\n",
      "  82  5.45e+02  1.20e+01  2.67e+04  7.42e-04  1.81e-03  4.94e-03  3.00e-01  5.72e-04  3.70e-03  1.49e+02\n",
      "  83  5.45e+02  1.20e+01  2.67e+04  7.29e-04  1.78e-03  4.88e-03  3.00e-01  5.67e-04  3.67e-03  1.49e+02\n",
      "  84  5.45e+02  1.20e+01  2.67e+04  7.19e-04  1.75e-03  4.82e-03  3.00e-01  5.62e-04  3.64e-03  1.49e+02\n",
      "  85  5.45e+02  1.20e+01  2.67e+04  7.06e-04  1.73e-03  4.76e-03  3.00e-01  5.58e-04  3.62e-03  1.49e+02\n",
      "  86  5.45e+02  1.20e+01  2.67e+04  6.86e-04  1.71e-03  4.70e-03  3.00e-01  5.54e-04  3.60e-03  1.49e+02\n",
      "  87  5.45e+02  1.20e+01  2.67e+04  6.62e-04  1.69e-03  4.64e-03  3.00e-01  5.50e-04  3.58e-03  1.49e+02\n",
      "  88  5.45e+02  1.20e+01  2.67e+04  6.47e-04  1.66e-03  4.59e-03  3.00e-01  5.46e-04  3.56e-03  1.49e+02\n",
      "  89  5.45e+02  1.20e+01  2.67e+04  6.36e-04  1.64e-03  4.53e-03  3.00e-01  5.43e-04  3.55e-03  1.49e+02\n",
      "  90  5.45e+02  1.20e+01  2.67e+04  6.39e-04  1.62e-03  4.48e-03  3.00e-01  5.41e-04  3.53e-03  1.49e+02\n",
      "  91  5.45e+02  1.20e+01  2.67e+04  6.37e-04  1.60e-03  4.42e-03  3.00e-01  5.39e-04  3.52e-03  1.49e+02\n",
      "  92  5.45e+02  1.20e+01  2.67e+04  6.23e-04  1.58e-03  4.37e-03  3.00e-01  5.33e-04  3.49e-03  1.49e+02\n",
      "  93  5.45e+02  1.20e+01  2.67e+04  6.00e-04  1.56e-03  4.32e-03  3.00e-01  5.25e-04  3.44e-03  1.49e+02\n",
      "  94  5.45e+02  1.20e+01  2.67e+04  5.83e-04  1.54e-03  4.26e-03  3.00e-01  5.16e-04  3.38e-03  1.49e+02\n",
      "  95  5.45e+02  1.20e+01  2.67e+04  5.74e-04  1.52e-03  4.20e-03  3.00e-01  5.09e-04  3.34e-03  1.49e+02\n",
      "  96  5.45e+02  1.20e+01  2.67e+04  5.78e-04  1.50e-03  4.15e-03  3.00e-01  5.02e-04  3.29e-03  1.49e+02\n",
      "  97  5.45e+02  1.20e+01  2.67e+04  5.75e-04  1.48e-03  4.09e-03  3.00e-01  4.94e-04  3.24e-03  1.49e+02\n",
      "  98  5.45e+02  1.20e+01  2.67e+04  5.67e-04  1.46e-03  4.04e-03  3.00e-01  4.86e-04  3.18e-03  1.49e+02\n",
      "  99  5.45e+02  1.20e+01  2.67e+04  5.62e-04  1.44e-03  3.98e-03  3.00e-01  4.77e-04  3.12e-03  1.49e+02\n",
      "--------------------------------------------------------------------------------------------------------\n"
     ]
    }
   ],
   "source": [
    "D0 = util.convdicts()['G:8x8x32']\n",
    "Di = np.zeros(D0.shape[0:2] + (1,), dtype=np.float32)\n",
    "Di[0, 0] = 1.0\n",
    "D = np.concatenate((Di, D0), axis=2)\n",
    "\n",
    "S = img.reshape((-1, img.shape[-1])).T\n",
    "np.random.seed(12345)\n",
    "B0 = np.random.randn(S.shape[0], 20)\n",
    "lmbda = 0.02\n",
    "opt = bpdndl.BPDNDictLearn.Options({'Verbose': True, 'MaxMainIter': 100,\n",
    "                                    'BPDN': {'rho': 10.0*lmbda + 0.1},\n",
    "                                    'CMOD': {'rho': S.shape[1] / 2e2}})\n",
    "\n",
    "d = bpdndl.BPDNDictLearn(B0, S, lmbda, opt)\n",
    "B = d.solve()"
   ]
  },
  {
   "cell_type": "code",
   "execution_count": 6,
   "metadata": {},
   "outputs": [],
   "source": [
    "lmbda = 1.4e0\n",
    "mu = 9e0"
   ]
  },
  {
   "cell_type": "code",
   "execution_count": 7,
   "metadata": {},
   "outputs": [],
   "source": [
    "wl1 = np.ones((1,)*4 + (D.shape[2],), dtype=np.float32)\n",
    "wl1[..., 0] = 0.0"
   ]
  },
  {
   "cell_type": "code",
   "execution_count": 8,
   "metadata": {},
   "outputs": [],
   "source": [
    "wgr = np.zeros((D.shape[2]), dtype=np.float32)\n",
    "wgr[0] = 1.0"
   ]
  },
  {
   "cell_type": "code",
   "execution_count": 9,
   "metadata": {},
   "outputs": [],
   "source": [
    "opt = pdcsc.ConvProdDictL1L1Grd.Options(\n",
    "    {'Verbose': True, 'MaxMainIter': 100, 'RelStopTol': 5e-3,\n",
    "     'AuxVarObj': False, 'rho': 1e1, 'RelaxParam': 1.8,\n",
    "     'L1Weight': np2cp(wl1), 'GradWeight': np2cp(wgr)})"
   ]
  },
  {
   "cell_type": "code",
   "execution_count": null,
   "metadata": {},
   "outputs": [
    {
     "name": "stdout",
     "output_type": "stream",
     "text": [
      "CuPy/GPU device not available: running without GPU acceleration\n",
      "\n",
      "Itn   Fnc       DFid      Regℓ1     Regℓ2∇    r         s       \n",
      "----------------------------------------------------------------\n",
      "   0  1.53e+05  7.99e+03  1.04e+05  2.52e+01  2.06e-01  2.19e+00\n",
      "   1  1.39e+05  1.61e+04  8.66e+04  1.72e+02  1.52e-01  2.85e+00\n"
     ]
    }
   ],
   "source": [
    "if not cupy_enabled():\n",
    "    print('CuPy/GPU device not available: running without GPU acceleration\\n')\n",
    "else:\n",
    "    id = select_device_by_load()\n",
    "    info = gpu_info()\n",
    "    if info:\n",
    "        print('Running on GPU %d (%s)\\n' % (id, info[id].name))\n",
    "\n",
    "b = pdcsc.ConvProdDictL1L1Grd(np2cp(D), np2cp(B), np2cp(pad(imgn)),\n",
    "                              lmbda, mu, opt=opt, dimK=0)\n",
    "X = cp2np(b.solve())"
   ]
  },
  {
   "cell_type": "code",
   "execution_count": null,
   "metadata": {},
   "outputs": [],
   "source": [
    "imgdp = cp2np(b.reconstruct().squeeze())\n",
    "imgd = crop(imgdp)\n"
   ]
  },
  {
   "cell_type": "code",
   "execution_count": null,
   "metadata": {},
   "outputs": [],
   "source": [
    "print(\"ConvProdDictL1L1Grd solve time: %5.2f s\" % b.timer.elapsed('solve'))\n",
    "print(\"Noisy image PSNR:    %5.2f dB\" % psnr(img, imgn))\n",
    "print(\"Denoised image PSNR: %5.2f dB\" % psnr(img, imgd))"
   ]
  },
  {
   "cell_type": "code",
   "execution_count": null,
   "metadata": {},
   "outputs": [],
   "source": [
    "fig, ax = plot.subplots(nrows=1, ncols=3, figsize=(21, 7))\n",
    "fig.suptitle('ConvProdDictL1L1GrdJoint Results (false colour, '\n",
    "             'bands 10, 20, 30)')\n",
    "plot.imview(img, title='Reference', ax=ax[0], fig=fig)\n",
    "plot.imview(imgn, title='Noisy', ax=ax[1], fig=fig)\n",
    "plot.imview(imgd, title='Denoised', ax=ax[2], fig=fig)\n",
    "fig.show()"
   ]
  },
  {
   "cell_type": "code",
   "execution_count": null,
   "metadata": {},
   "outputs": [],
   "source": [
    "its = b.getitstat()\n",
    "ObjFun = [float(x) for x in its.ObjFun]\n",
    "PrimalRsdl = [float(x) for x in its.PrimalRsdl]\n",
    "DualRsdl = [float(x) for x in its.DualRsdl]\n",
    "fig = plot.figure(figsize=(20, 5))\n",
    "plot.subplot(1, 3, 1)\n",
    "plot.plot(ObjFun, xlbl='Iterations', ylbl='Functional', fig=fig)\n",
    "plot.subplot(1, 3, 2)\n",
    "plot.plot(np.vstack((PrimalRsdl, DualRsdl)).T,\n",
    "          ptyp='semilogy', xlbl='Iterations', ylbl='Residual',\n",
    "          lgnd=['Primal', 'Dual'], fig=fig)\n",
    "plot.subplot(1, 3, 3)\n",
    "plot.plot(its.Rho, xlbl='Iterations', ylbl='Penalty Parameter', fig=fig)\n",
    "fig.show()"
   ]
  },
  {
   "cell_type": "code",
   "execution_count": null,
   "metadata": {},
   "outputs": [],
   "source": []
  }
 ],
 "metadata": {
  "kernelspec": {
   "display_name": "Python 3",
   "language": "python",
   "name": "python3"
  },
  "language_info": {
   "codemirror_mode": {
    "name": "ipython",
    "version": 3
   },
   "file_extension": ".py",
   "mimetype": "text/x-python",
   "name": "python",
   "nbconvert_exporter": "python",
   "pygments_lexer": "ipython3",
   "version": "3.8.5"
  }
 },
 "nbformat": 4,
 "nbformat_minor": 4
}
